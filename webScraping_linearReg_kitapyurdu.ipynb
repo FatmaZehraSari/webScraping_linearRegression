{
 "cells": [
  {
   "cell_type": "code",
   "execution_count": 9,
   "id": "5a2ce898",
   "metadata": {},
   "outputs": [],
   "source": [
    "import requests\n",
    "from bs4 import BeautifulSoup as bts\n",
    "import pandas as pd\n",
    "import re\n",
    "import numpy as np\n",
    "from pytictoc import TicToc\n",
    "from datetime import datetime\n",
    "import time"
   ]
  },
  {
   "cell_type": "code",
   "execution_count": 2,
   "id": "5252abbb",
   "metadata": {},
   "outputs": [],
   "source": [
    "def getAndParseURL(url):\n",
    "    result = requests.get(url, headers={\"User-Agent\":\"Chrome/103.0.0.0\"}) # Safari/537.36. Mozilla/5.0\n",
    "    soup = bts(result.text, \"html.parser\")\n",
    "    return soup"
   ]
  },
  {
   "cell_type": "code",
   "execution_count": 11,
   "id": "d2264495",
   "metadata": {},
   "outputs": [
    {
     "name": "stdout",
     "output_type": "stream",
     "text": [
      "https://www.kitapyurdu.com/index.php?route=product/best_sellers&page=1&list_id=18&filter_in_stock=1&filter_in_stock=1\n",
      "https://www.kitapyurdu.com/index.php?route=product/best_sellers&page=23&list_id=18&filter_in_stock=1&filter_in_stock=1\n",
      "23\n"
     ]
    }
   ],
   "source": [
    "pages = [] #annual bestsellers&literary fiction\n",
    "for page in range(1,24): \n",
    "    pages.append(\"https://www.kitapyurdu.com/index.php?route=product/best_sellers&page=\"+str(page)+\"&list_id=18&filter_in_stock=1&filter_in_stock=1\")\n",
    "print(pages[0])\n",
    "print(pages[-1])\n",
    "print(len(pages))"
   ]
  },
  {
   "cell_type": "code",
   "execution_count": 12,
   "id": "f6b5ed2f",
   "metadata": {},
   "outputs": [
    {
     "name": "stdout",
     "output_type": "stream",
     "text": [
      "['https://www.kitapyurdu.com/kitap/gece-yarisi-kutuphanesi/582550.html', 'https://www.kitapyurdu.com/kitap/seker-portakali-ciltsiz/10139.html', 'https://www.kitapyurdu.com/kitap/simyaci-ciltsiz/27328.html', 'https://www.kitapyurdu.com/kitap/ben-kirke/512225.html', 'https://www.kitapyurdu.com/kitap/fareler-ve-insanlar/280996.html', 'https://www.kitapyurdu.com/kitap/hayvan-ciftligi-ciltsiz/30574.html', 'https://www.kitapyurdu.com/kitap/kayip-tanrilar-ulkesi/583214.html', 'https://www.kitapyurdu.com/kitap/kirmizi-pazartesi/13006.html', 'https://www.kitapyurdu.com/kitap/veronika-olmek-istiyor/18703.html', 'https://www.kitapyurdu.com/kitap/cesur-yeni-dunya/21087.html', 'https://www.kitapyurdu.com/kitap/1984/13506.html', 'https://www.kitapyurdu.com/kitap/kurk-mantolu-madonna/12064.html', 'https://www.kitapyurdu.com/kitap/fahrenheit-451/455877.html', 'https://www.kitapyurdu.com/kitap/icimizdeki-seytan/12065.html', 'https://www.kitapyurdu.com/kitap/momo/434330.html', 'https://www.kitapyurdu.com/kitap/aylak-adam/434326.html', 'https://www.kitapyurdu.com/kitap/gunesi-uyandiralim/13562.html', 'https://www.kitapyurdu.com/kitap/saatleri-ayarlama-enstitusu/4780.html', 'https://www.kitapyurdu.com/kitap/ince-memed-1/57300.html', 'https://www.kitapyurdu.com/kitap/ugultulu-tepeler/485377.html', 'https://www.kitapyurdu.com/kitap/kuyucakli-yusuf/62333.html', 'https://www.kitapyurdu.com/kitap/tutunamayanlar--butun-eserleri-1/18252.html', 'https://www.kitapyurdu.com/kitap/dune/375312.html', 'https://www.kitapyurdu.com/kitap/okcunun-yolu/592512.html', 'https://www.kitapyurdu.com/kitap/yuzyillik-yalnizlik-ciltsiz/10049.html']\n"
     ]
    }
   ],
   "source": [
    "products = []\n",
    "for page in pages:\n",
    "    html = getAndParseURL(page)\n",
    "    for product in html.findAll(\"div\",{\"class\":\"cover\"}):\n",
    "        products.append(product.a.get(\"href\"))\n",
    "print(products[:25])"
   ]
  },
  {
   "cell_type": "code",
   "execution_count": 7,
   "id": "8f5e03ba",
   "metadata": {},
   "outputs": [
    {
     "data": {
      "text/plain": [
       "'\\nname = html.find(\"h1\",{\"class\":\"pr_header__heading\"}).text.strip()\\nprint(\"name of the book: \", name)\\nauthor = html.find(\"a\",{\"class\":\"pr_producers__link\"}).text.strip()\\nprint(\"author: \", author)\\npublisher = html.find(\"div\",{\"class\":\"pr_producers__publisher\"}).text.strip()\\nprint(\"publisher: \", publisher)\\nrelease_date = html.find(\"div\",{\"class\":\"attributes\"}).find(text=re.compile(\"Yayın Tarihi\")).findNext().text.strip().replace(\".\",\"/\")\\nprint(\"release date: \", release_date)\\npurchase_info = html.find(\"div\",{\"class\":\"purchase-info\"}).text.strip().replace(\".\",\"\")\\nprint(\"how many copies of this book have been sold: \", purchase_info)\\npage_num = html.find(\"div\",{\"class\":\"attributes\"}).find(text=re.compile(\"Sayfa Sayısı:\")).findNext().text.strip()\\nprint(\"number of pages: \", int(page_num))\\ncover =  html.find(\"div\",{\"class\":\"attributes\"}).find(text=re.compile(\"Cilt Tipi:\")).findNext().text.strip()\\nprint(\"type of the book cover: \", cover)\\npaper_type = html.find(\"div\",{\"class\":\"attributes\"}).find(text=re.compile(\"Kağıt Cinsi:\")).findNext().text.strip()\\nprint(\"paper type of the book: \", paper_type)\\nrating = float(html.find(\"meta\", itemprop=\"ratingValue\").attrs[\"content\"].replace(\".\",\"\"))\\nprint(\"rating of the book: \", rating)\\nrating_count = int(html.find(\"meta\", itemprop=\"ratingCount\").attrs[\"content\"].replace(\".\",\"\"))\\nprint(\"number of people who rate the book: \", rating_count)\\nreview_count = int(html.find(\"meta\", itemprop=\"reviewCount\").attrs[\"content\"].replace(\".\",\"\"))\\nprint(\"number of reviews about the book: \", review_count)\\nprice = float(html.find(\"div\",{\"class\":\"price__item\"}).text.strip().replace(\",\",\".\"))\\nprint(\"price: \", price)\\ndiscount = html.find(\"p\",{\"class\":\"info-text\"}).text.replace(\",\",\".\")\\nprint(\"discount: \", discount)\\nmanufacturer_price = float(html.find(\"span\",{\"class\":\"pr_price__strikeout-list\"}).text.strip().replace(\",\",\".\"))\\nprint(\"original price: \", manufacturer_price)\\nfav_count = int(html.find(\"span\",{\"id\":\"favorite-count\"}).text.strip().replace(\".\",\"\"))\\nprint(\"number of people who added the book to their favorites: \", fav_count)\\nto_read_list = html.find(\"li\",{\"class\":\"readlists__item\"}).text.strip(\"\\n\").strip().replace(\".\",\"\")\\nprint(\"number of people who added the book to their to-read list: \", to_read_list)\\n'"
      ]
     },
     "execution_count": 7,
     "metadata": {},
     "output_type": "execute_result"
    }
   ],
   "source": [
    "\"\"\"\n",
    "name = html.find(\"h1\",{\"class\":\"pr_header__heading\"}).text.strip()\n",
    "print(\"name of the book: \", name)\n",
    "author = html.find(\"a\",{\"class\":\"pr_producers__link\"}).text.strip()\n",
    "print(\"author: \", author)\n",
    "publisher = html.find(\"div\",{\"class\":\"pr_producers__publisher\"}).text.strip()\n",
    "print(\"publisher: \", publisher)\n",
    "release_date = html.find(\"div\",{\"class\":\"attributes\"}).find(text=re.compile(\"Yayın Tarihi\")).findNext().text.strip().replace(\".\",\"/\")\n",
    "print(\"release date: \", release_date)\n",
    "purchase_info = html.find(\"div\",{\"class\":\"purchase-info\"}).text.strip().replace(\".\",\"\")\n",
    "print(\"how many copies of this book have been sold: \", purchase_info)\n",
    "page_num = html.find(\"div\",{\"class\":\"attributes\"}).find(text=re.compile(\"Sayfa Sayısı:\")).findNext().text.strip()\n",
    "print(\"number of pages: \", int(page_num))\n",
    "cover =  html.find(\"div\",{\"class\":\"attributes\"}).find(text=re.compile(\"Cilt Tipi:\")).findNext().text.strip()\n",
    "print(\"type of the book cover: \", cover)\n",
    "paper_type = html.find(\"div\",{\"class\":\"attributes\"}).find(text=re.compile(\"Kağıt Cinsi:\")).findNext().text.strip()\n",
    "print(\"paper type of the book: \", paper_type)\n",
    "rating = float(html.find(\"meta\", itemprop=\"ratingValue\").attrs[\"content\"].replace(\".\",\"\"))\n",
    "print(\"rating of the book: \", rating)\n",
    "rating_count = int(html.find(\"meta\", itemprop=\"ratingCount\").attrs[\"content\"].replace(\".\",\"\"))\n",
    "print(\"number of people who rate the book: \", rating_count)\n",
    "review_count = int(html.find(\"meta\", itemprop=\"reviewCount\").attrs[\"content\"].replace(\".\",\"\"))\n",
    "print(\"number of reviews about the book: \", review_count)\n",
    "price = float(html.find(\"div\",{\"class\":\"price__item\"}).text.strip().replace(\",\",\".\"))\n",
    "print(\"price: \", price)\n",
    "discount = html.find(\"p\",{\"class\":\"info-text\"}).text.replace(\",\",\".\")\n",
    "print(\"discount: \", discount)\n",
    "manufacturer_price = float(html.find(\"span\",{\"class\":\"pr_price__strikeout-list\"}).text.strip().replace(\",\",\".\"))\n",
    "print(\"original price: \", manufacturer_price)\n",
    "fav_count = int(html.find(\"span\",{\"id\":\"favorite-count\"}).text.strip().replace(\".\",\"\"))\n",
    "print(\"number of people who added the book to their favorites: \", fav_count)\n",
    "to_read_list = html.find(\"li\",{\"class\":\"readlists__item\"}).text.strip(\"\\n\").strip().replace(\".\",\"\")\n",
    "print(\"number of people who added the book to their to-read list: \", to_read_list)\n",
    "\"\"\""
   ]
  },
  {
   "cell_type": "code",
   "execution_count": 13,
   "id": "116d24c0",
   "metadata": {},
   "outputs": [
    {
     "name": "stdout",
     "output_type": "stream",
     "text": [
      "Elapsed time is 708.310642 seconds.\n"
     ]
    }
   ],
   "source": [
    "with TicToc():\n",
    "    features = []\n",
    "    for product in products:\n",
    "        html = getAndParseURL(product)\n",
    "        try:\n",
    "            name = html.find(\"h1\",{\"class\":\"pr_header__heading\"}).text.strip()\n",
    "        except:\n",
    "            name = np.nan\n",
    "        try:\n",
    "            author = html.find(\"a\",{\"class\":\"pr_producers__link\"}).text.strip()\n",
    "        except:\n",
    "            author = np.nan\n",
    "        try:\n",
    "            publisher = html.find(\"div\",{\"class\":\"pr_producers__publisher\"}).text.strip()\n",
    "        except:\n",
    "            publisher = np.nan   \n",
    "        try:\n",
    "            release_date = html.find(\"div\",{\"class\":\"attributes\"}).find(text=re.compile(\"Yayın Tarihi\")).findNext().text.strip().replace(\".\",\"/\")\n",
    "        except:\n",
    "            release_date = np.nan\n",
    "        try:\n",
    "            purchase_info = html.find(\"div\",{\"class\":\"purchase-info\"}).text.strip().replace(\".\",\"\")\n",
    "        except:       \n",
    "            purchase_info = np.nan\n",
    "        try:\n",
    "            page_num = int(html.find(\"div\",{\"class\":\"attributes\"}).find(text=re.compile(\"Sayfa Sayısı:\")).findNext().text.strip())\n",
    "        except:\n",
    "            page_num = np.nan\n",
    "        try:\n",
    "            cover =  html.find(\"div\",{\"class\":\"attributes\"}).find(text=re.compile(\"Cilt Tipi:\")).findNext().text.strip()\n",
    "        except:\n",
    "            cover = np.nan\n",
    "        try:\n",
    "            paper_type = html.find(\"div\",{\"class\":\"attributes\"}).find(text=re.compile(\"Kağıt Cinsi:\")).findNext().text.strip()\n",
    "        except:\n",
    "            paper_type = np.nan\n",
    "        try:\n",
    "            rating = float(html.find(\"meta\", itemprop=\"ratingValue\").attrs[\"content\"].replace(\".\",\"\"))\n",
    "        except:\n",
    "            rating = np.nan\n",
    "        try:\n",
    "            rating_count = int(html.find(\"meta\", itemprop=\"ratingCount\").attrs[\"content\"].replace(\".\",\"\"))\n",
    "        except:\n",
    "            rating_count = np.nan\n",
    "        try:\n",
    "            review_count = int(html.find(\"meta\", itemprop=\"reviewCount\").attrs[\"content\"].replace(\".\",\"\"))\n",
    "        except:\n",
    "            review_count = np.nan\n",
    "        try:\n",
    "            price = float(html.find(\"div\",{\"class\":\"price__item\"}).text.strip().replace(\",\",\".\"))\n",
    "        except:\n",
    "            price = np.nan\n",
    "        try:\n",
    "            discount = html.find(\"p\",{\"class\":\"info-text\"}).text.replace(\",\",\".\")\n",
    "        except:\n",
    "            discount = np.nan\n",
    "        try:\n",
    "            manufacturer_price = float(html.find(\"span\",{\"class\":\"pr_price__strikeout-list\"}).text.strip().replace(\",\",\".\"))\n",
    "        except:\n",
    "            manufacturer_price = np.nan\n",
    "        try:\n",
    "            fav_count = int(html.find(\"span\",{\"id\":\"favorite-count\"}).text.strip().replace(\".\",\"\"))\n",
    "        except:\n",
    "            fav_count = np.nan\n",
    "        try:\n",
    "             to_read_list = html.find(\"li\",{\"class\":\"readlists__item\"}).text.strip(\"\\n\").strip().replace(\".\",\"\")\n",
    "        except:\n",
    "            to_read_list = np.nan\n",
    "\n",
    "\n",
    "        features.append([name, author, publisher, release_date, purchase_info, page_num, cover, paper_type, \n",
    "                         rating, rating_count, review_count, fav_count, to_read_list, price, discount, manufacturer_price])\n",
    "        time.sleep(1)\n",
    "\n",
    "    df_columns = [\"Name of the Book\",\"Author\",\"Publisher\",\"Release Date\",\"Purchase Info\",\"Number of Pages\",\"Type of the Book Cover\",\n",
    "                  \"Type of the Paper\",\"Rate\",\"Rating Count\",\"Review Count\",\"Fav Count\",\"To-Read List Count\",\"Price\",\"Discount\",\"Manufacturer Price\"]\n",
    "\n",
    "    df = pd.DataFrame.from_records(features, columns=df_columns)\n",
    "    df.to_pickle(\"./kitap_yurdu_literary.pkl\") "
   ]
  },
  {
   "cell_type": "code",
   "execution_count": 23,
   "id": "11d1eb7a",
   "metadata": {},
   "outputs": [
    {
     "name": "stdout",
     "output_type": "stream",
     "text": [
      "Name of the Book:  Gece Yarısı Kütüphanesi\n",
      "Author:  Matt Haig\n",
      "Publisher:  DOMİNGO YAYINEVİ\n",
      "Release Date:  23/02/2022\n",
      "Purchase Info:  Bu üründen 38719 adet satın alınmıştır\n",
      "Number of Pages:  283\n",
      "Type of the Book Cover:  Karton Kapak\n",
      "Type of the Paper:  Kitap Kağıdı\n",
      "Rate:  5.0\n",
      "Rating Count:  999\n",
      "Review Count:  618\n",
      "Fav Count:  19645\n",
      "To-Read List Count:  Okuyacağım                \n",
      "\n",
      "\n",
      "                    2092\n",
      "Price:  38.01\n",
      "Discount:  Kazancınız:  37.99\n",
      "Manufacturer Price:  76.0\n"
     ]
    }
   ],
   "source": [
    "html = getAndParseURL(\"https://www.kitapyurdu.com/kitap/gece-yarisi-kutuphanesi/582550.html\")\n",
    "name = html.find(\"h1\",{\"class\":\"pr_header__heading\"}).text.strip()\n",
    "print(\"Name of the Book: \", name)\n",
    "author = html.find(\"a\",{\"class\":\"pr_producers__link\"}).text.strip()\n",
    "print(\"Author: \", author)\n",
    "publisher = html.find(\"div\",{\"class\":\"pr_producers__publisher\"}).text.strip()\n",
    "print(\"Publisher: \", publisher)\n",
    "release_date = html.find(\"div\",{\"class\":\"attributes\"}).find(text=re.compile(\"Yayın Tarihi\")).findNext().text.strip().replace(\".\",\"/\")\n",
    "print(\"Release Date: \", release_date)\n",
    "purchase_info = html.find(\"div\",{\"class\":\"purchase-info\"}).text.strip().replace(\".\",\"\")\n",
    "print(\"Purchase Info: \", purchase_info)\n",
    "page_num = html.find(\"div\",{\"class\":\"attributes\"}).find(text=re.compile(\"Sayfa Sayısı:\")).findNext().text.strip()\n",
    "print(\"Number of Pages: \", int(page_num))\n",
    "cover =  html.find(\"div\",{\"class\":\"attributes\"}).find(text=re.compile(\"Cilt Tipi:\")).findNext().text.strip()\n",
    "print(\"Type of the Book Cover: \", cover)\n",
    "paper_type = html.find(\"div\",{\"class\":\"attributes\"}).find(text=re.compile(\"Kağıt Cinsi:\")).findNext().text.strip()\n",
    "print(\"Type of the Paper: \", paper_type)\n",
    "rating = float(html.find(\"meta\", itemprop=\"ratingValue\").attrs[\"content\"].replace(\".\",\"\"))\n",
    "print(\"Rate: \", rating)\n",
    "rating_count = int(html.find(\"meta\", itemprop=\"ratingCount\").attrs[\"content\"].replace(\".\",\"\"))\n",
    "print(\"Rating Count: \", rating_count)\n",
    "review_count = int(html.find(\"meta\", itemprop=\"reviewCount\").attrs[\"content\"].replace(\".\",\"\"))\n",
    "print(\"Review Count: \", review_count)\n",
    "fav_count = int(html.find(\"span\",{\"id\":\"favorite-count\"}).text.strip().replace(\".\",\"\"))\n",
    "print(\"Fav Count: \", fav_count)\n",
    "to_read_list = html.find(\"li\",{\"class\":\"readlists__item\"}).text.strip(\"\\n\").strip().replace(\".\",\"\")\n",
    "print(\"To-Read List Count: \", to_read_list)\n",
    "price = float(html.find(\"div\",{\"class\":\"price__item\"}).text.strip().replace(\",\",\".\"))\n",
    "print(\"Price: \", price)\n",
    "discount = html.find(\"p\",{\"class\":\"info-text\"}).text.replace(\",\",\".\")\n",
    "print(\"Discount: \", discount)\n",
    "manufacturer_price = float(html.find(\"span\",{\"class\":\"pr_price__strikeout-list\"}).text.strip().replace(\",\",\".\"))\n",
    "print(\"Manufacturer Price: \", manufacturer_price)"
   ]
  },
  {
   "cell_type": "code",
   "execution_count": 14,
   "id": "1ae79b74",
   "metadata": {},
   "outputs": [
    {
     "name": "stdout",
     "output_type": "stream",
     "text": [
      "https://www.kitapyurdu.com/index.php?route=product/best_sellers&page=1&list_id=21&filter_in_stock=1&filter_in_stock=1\n",
      "https://www.kitapyurdu.com/index.php?route=product/best_sellers&page=22&list_id=21&filter_in_stock=1&filter_in_stock=1\n",
      "22\n"
     ]
    }
   ],
   "source": [
    "pages = [] #çok satanlar-edebiyatdışı-yıllık\n",
    "for page in range(1,23): \n",
    "    pages.append(\"https://www.kitapyurdu.com/index.php?route=product/best_sellers&page=\"+str(page)+\"&list_id=21&filter_in_stock=1&filter_in_stock=1\")\n",
    "print(pages[0])\n",
    "print(pages[-1])\n",
    "print(len(pages))\n"
   ]
  },
  {
   "cell_type": "code",
   "execution_count": 15,
   "id": "108e3f69",
   "metadata": {},
   "outputs": [
    {
     "name": "stdout",
     "output_type": "stream",
     "text": [
      "['https://www.kitapyurdu.com/kitap/var-misin-amp-guclu-bir-yasam-icin-oneriler/568760.html', 'https://www.kitapyurdu.com/kitap/benim-zurafam-ucabilir/589761.html', 'https://www.kitapyurdu.com/kitap/delifisek/13565.html', 'https://www.kitapyurdu.com/kitap/iyilesen-evliligim/597416.html', 'https://www.kitapyurdu.com/kitap/bir-omur-nasil-yasanir-amp-hayatta-dogru-secimler-icin-oneriler/493305.html', 'https://www.kitapyurdu.com/kitap/pal-sokagi-cocuklari/125370.html', 'https://www.kitapyurdu.com/kitap/insan-gelecegini-nasil-kurar-amp-kendini-insa-etmenin-yollari/609007.html', 'https://www.kitapyurdu.com/kitap/atomik-aliskanliklar/540793.html', 'https://www.kitapyurdu.com/kitap/ezbere-yasayanlar-amp-vazgecemedigimiz-aliskanliklarimizin-kokenleri/605078.html', 'https://www.kitapyurdu.com/kitap/gercek-tip-amp-yitik-sifanin-izinde/409003.html', 'https://www.kitapyurdu.com/kitap/101-deyim-101-oyku/392721.html', 'https://www.kitapyurdu.com/kitap/kitaplardan-korkan-cocuk/40901.html', 'https://www.kitapyurdu.com/kitap/martiya-ucmayi-ogreten-kedi/16956.html', 'https://www.kitapyurdu.com/kitap/insanin-anlam-arayisi/131878.html', 'https://www.kitapyurdu.com/kitap/dervisin-teselli-koleksiyonu-amp-dogudan-batidan-99-teselli-/421503.html', 'https://www.kitapyurdu.com/kitap/insan-olmak/50667.html', 'https://www.kitapyurdu.com/kitap/zaman-bisikleti/57439.html', 'https://www.kitapyurdu.com/kitap/gelistiren-annebaba/599028.html', 'https://www.kitapyurdu.com/kitap/kapra-felsefe-seti-10-kitap/592209.html', 'https://www.kitapyurdu.com/kitap/dirilis-neslinin-amentusu/6522.html', 'https://www.kitapyurdu.com/kitap/30-gunde-10-yil/380420.html', 'https://www.kitapyurdu.com/kitap/dura-mater/590152.html', 'https://www.kitapyurdu.com/kitap/kraliceyi-kurtarmak/58695.html', 'https://www.kitapyurdu.com/kitap/harry-potter-ve-felsefe-tasi/32780.html', 'https://www.kitapyurdu.com/kitap/keloglan-namaz-pesinde/592110.html']\n"
     ]
    }
   ],
   "source": [
    "products = []\n",
    "for page in pages:\n",
    "    html = getAndParseURL(page)\n",
    "    for product in html.findAll(\"div\",{\"class\":\"cover\"}):\n",
    "        products.append(product.a.get(\"href\"))\n",
    "print(products[:25])"
   ]
  },
  {
   "cell_type": "code",
   "execution_count": 17,
   "id": "e5f9d6c2",
   "metadata": {},
   "outputs": [
    {
     "name": "stdout",
     "output_type": "stream",
     "text": [
      "Elapsed time is 662.142546 seconds.\n"
     ]
    }
   ],
   "source": [
    "with TicToc():\n",
    "    features = []\n",
    "    for product in products:\n",
    "        html = getAndParseURL(product)\n",
    "        try:\n",
    "            name = html.find(\"h1\",{\"class\":\"pr_header__heading\"}).text.strip()\n",
    "        except:\n",
    "            name = np.nan\n",
    "        try:\n",
    "            author = html.find(\"a\",{\"class\":\"pr_producers__link\"}).text.strip()\n",
    "        except:\n",
    "            author = np.nan\n",
    "        try:\n",
    "            publisher = html.find(\"div\",{\"class\":\"pr_producers__publisher\"}).text.strip()\n",
    "        except:\n",
    "            publisher = np.nan   \n",
    "        try:\n",
    "            release_date = html.find(\"div\",{\"class\":\"attributes\"}).find(text=re.compile(\"Yayın Tarihi\")).findNext().text.strip().replace(\".\",\"/\")\n",
    "        except:\n",
    "            release_date = np.nan\n",
    "        try:\n",
    "            purchase_info = html.find(\"div\",{\"class\":\"purchase-info\"}).text.strip().replace(\".\",\"\")\n",
    "        except:       \n",
    "            purchase_info = np.nan\n",
    "        try:\n",
    "            page_num = int(html.find(\"div\",{\"class\":\"attributes\"}).find(text=re.compile(\"Sayfa Sayısı:\")).findNext().text.strip())\n",
    "        except:\n",
    "            page_num = np.nan\n",
    "        try:\n",
    "            cover =  html.find(\"div\",{\"class\":\"attributes\"}).find(text=re.compile(\"Cilt Tipi:\")).findNext().text.strip()\n",
    "        except:\n",
    "            cover = np.nan\n",
    "        try:\n",
    "            paper_type = html.find(\"div\",{\"class\":\"attributes\"}).find(text=re.compile(\"Kağıt Cinsi:\")).findNext().text.strip()\n",
    "        except:\n",
    "            paper_type = np.nan\n",
    "        try:\n",
    "            rating = float(html.find(\"meta\", itemprop=\"ratingValue\").attrs[\"content\"].replace(\".\",\"\"))\n",
    "        except:\n",
    "            rating = np.nan\n",
    "        try:\n",
    "            rating_count = int(html.find(\"meta\", itemprop=\"ratingCount\").attrs[\"content\"].replace(\".\",\"\"))\n",
    "        except:\n",
    "            rating_count = np.nan\n",
    "        try:\n",
    "            review_count = int(html.find(\"meta\", itemprop=\"reviewCount\").attrs[\"content\"].replace(\".\",\"\"))\n",
    "        except:\n",
    "            review_count = np.nan\n",
    "        try:\n",
    "            price = float(html.find(\"div\",{\"class\":\"price__item\"}).text.strip().replace(\",\",\".\"))\n",
    "        except:\n",
    "            price = np.nan\n",
    "        try:\n",
    "            discount = html.find(\"p\",{\"class\":\"info-text\"}).text.replace(\",\",\".\")\n",
    "        except:\n",
    "            discount = np.nan\n",
    "        try:\n",
    "            manufacturer_price = float(html.find(\"span\",{\"class\":\"pr_price__strikeout-list\"}).text.strip().replace(\",\",\".\"))\n",
    "        except:\n",
    "            manufacturer_price = np.nan\n",
    "        try:\n",
    "            fav_count = int(html.find(\"span\",{\"id\":\"favorite-count\"}).text.strip().replace(\".\",\"\"))\n",
    "        except:\n",
    "            fav_count = np.nan\n",
    "        try:\n",
    "             to_read_list = html.find(\"li\",{\"class\":\"readlists__item\"}).text.strip(\"\\n\").strip().replace(\".\",\"\")\n",
    "        except:\n",
    "            to_read_list = np.nan\n",
    "\n",
    "\n",
    "        features.append([name, author, publisher, release_date, purchase_info, page_num, cover, paper_type, \n",
    "                         rating, rating_count, review_count, fav_count, to_read_list, price, discount, manufacturer_price])\n",
    "        time.sleep(1)\n",
    "\n",
    "    df_columns = [\"Name of the book\",\"Author\",\"Publisher\",\"Release Date\",\"Purchase Info\",\"Number of Pages\",\"Type of the Book Cover\",\n",
    "                  \"Type of the Paper\",\"Rate\",\"Rating Count\",\"Review Count\",\"Fav Count\",\"To-Read List Count\",\"Price\",\"Discount\",\"Manufacturer Price\"]\n",
    "\n",
    "    df = pd.DataFrame.from_records(features, columns=df_columns)\n",
    "    df.to_pickle(\"./kitap_yurdu_edebiyat_disi.pkl\") "
   ]
  },
  {
   "cell_type": "code",
   "execution_count": 19,
   "id": "e1c8054a",
   "metadata": {},
   "outputs": [
    {
     "name": "stdout",
     "output_type": "stream",
     "text": [
      "Elapsed time is 0.004448 seconds.\n"
     ]
    }
   ],
   "source": [
    "with TicToc():\n",
    "    ky_ed = pd.read_pickle(\"./kitap_yurdu_edebiyat_disi.pkl\") \n",
    "    ky = pd.read_pickle(\"./kitap_yurdu.pkl\") \n"
   ]
  },
  {
   "cell_type": "code",
   "execution_count": 20,
   "id": "3f5aa6e6",
   "metadata": {},
   "outputs": [
    {
     "name": "stderr",
     "output_type": "stream",
     "text": [
      "C:\\Users\\sarif\\AppData\\Local\\Temp\\ipykernel_16200\\3144410015.py:1: FutureWarning: The frame.append method is deprecated and will be removed from pandas in a future version. Use pandas.concat instead.\n",
      "  ky = ky.append(ky_ed, ignore_index=True)\n"
     ]
    }
   ],
   "source": [
    "ky = ky.append(ky_ed, ignore_index=True)"
   ]
  },
  {
   "cell_type": "code",
   "execution_count": 66,
   "id": "9dce7d78",
   "metadata": {
    "scrolled": true
   },
   "outputs": [
    {
     "data": {
      "text/html": [
       "<div>\n",
       "<style scoped>\n",
       "    .dataframe tbody tr th:only-of-type {\n",
       "        vertical-align: middle;\n",
       "    }\n",
       "\n",
       "    .dataframe tbody tr th {\n",
       "        vertical-align: top;\n",
       "    }\n",
       "\n",
       "    .dataframe thead th {\n",
       "        text-align: right;\n",
       "    }\n",
       "</style>\n",
       "<table border=\"1\" class=\"dataframe\">\n",
       "  <thead>\n",
       "    <tr style=\"text-align: right;\">\n",
       "      <th></th>\n",
       "      <th>Name of the Book</th>\n",
       "      <th>Author</th>\n",
       "      <th>Publisher</th>\n",
       "      <th>Purchase Info</th>\n",
       "      <th>Number of Pages</th>\n",
       "      <th>Type of the Book Cover</th>\n",
       "      <th>Type of the Paper</th>\n",
       "      <th>Rate</th>\n",
       "      <th>Rating Count</th>\n",
       "      <th>Review Count</th>\n",
       "      <th>Fav Count</th>\n",
       "      <th>To-Read List Count</th>\n",
       "      <th>Price</th>\n",
       "      <th>Discount</th>\n",
       "      <th>Manufacturer Price</th>\n",
       "      <th>Time Passed Since Publication</th>\n",
       "    </tr>\n",
       "  </thead>\n",
       "  <tbody>\n",
       "    <tr>\n",
       "      <th>0</th>\n",
       "      <td>Gece Yarısı Kütüphanesi</td>\n",
       "      <td>Matt Haig</td>\n",
       "      <td>DOMİNGO YAYINEVİ</td>\n",
       "      <td>38719.0</td>\n",
       "      <td>283.0</td>\n",
       "      <td>1.0</td>\n",
       "      <td>2.0</td>\n",
       "      <td>5.0</td>\n",
       "      <td>998</td>\n",
       "      <td>616</td>\n",
       "      <td>19635</td>\n",
       "      <td>2093.0</td>\n",
       "      <td>41.81</td>\n",
       "      <td>34.19</td>\n",
       "      <td>76.0</td>\n",
       "      <td>195.0</td>\n",
       "    </tr>\n",
       "    <tr>\n",
       "      <th>1</th>\n",
       "      <td>Şeker Portakalı (Ciltsiz)</td>\n",
       "      <td>Jose Mauro De Vasconcelos</td>\n",
       "      <td>CAN YAYINLARI</td>\n",
       "      <td>266852.0</td>\n",
       "      <td>182.0</td>\n",
       "      <td>1.0</td>\n",
       "      <td>2.0</td>\n",
       "      <td>5.0</td>\n",
       "      <td>21848</td>\n",
       "      <td>10075</td>\n",
       "      <td>60358</td>\n",
       "      <td>7789.0</td>\n",
       "      <td>24.75</td>\n",
       "      <td>30.25</td>\n",
       "      <td>55.0</td>\n",
       "      <td>1096.0</td>\n",
       "    </tr>\n",
       "    <tr>\n",
       "      <th>2</th>\n",
       "      <td>Simyacı (Ciltsiz)</td>\n",
       "      <td>Paulo Coelho</td>\n",
       "      <td>CAN YAYINLARI</td>\n",
       "      <td>183205.0</td>\n",
       "      <td>184.0</td>\n",
       "      <td>1.0</td>\n",
       "      <td>2.0</td>\n",
       "      <td>5.0</td>\n",
       "      <td>15914</td>\n",
       "      <td>7543</td>\n",
       "      <td>54657</td>\n",
       "      <td>5425.0</td>\n",
       "      <td>25.66</td>\n",
       "      <td>31.34</td>\n",
       "      <td>57.0</td>\n",
       "      <td>343.0</td>\n",
       "    </tr>\n",
       "    <tr>\n",
       "      <th>3</th>\n",
       "      <td>Ben, Kirke</td>\n",
       "      <td>Madeline Miller</td>\n",
       "      <td>İTHAKİ YAYINLARI</td>\n",
       "      <td>50093.0</td>\n",
       "      <td>408.0</td>\n",
       "      <td>1.0</td>\n",
       "      <td>2.0</td>\n",
       "      <td>4.0</td>\n",
       "      <td>1703</td>\n",
       "      <td>912</td>\n",
       "      <td>24116</td>\n",
       "      <td>2157.0</td>\n",
       "      <td>40.01</td>\n",
       "      <td>39.99</td>\n",
       "      <td>80.0</td>\n",
       "      <td>589.0</td>\n",
       "    </tr>\n",
       "    <tr>\n",
       "      <th>4</th>\n",
       "      <td>Fareler ve İnsanlar</td>\n",
       "      <td>John Steinbeck</td>\n",
       "      <td>SEL YAYINCILIK</td>\n",
       "      <td>126422.0</td>\n",
       "      <td>111.0</td>\n",
       "      <td>1.0</td>\n",
       "      <td>2.0</td>\n",
       "      <td>5.0</td>\n",
       "      <td>9631</td>\n",
       "      <td>4416</td>\n",
       "      <td>41801</td>\n",
       "      <td>4330.0</td>\n",
       "      <td>22.66</td>\n",
       "      <td>13.34</td>\n",
       "      <td>36.0</td>\n",
       "      <td>838.0</td>\n",
       "    </tr>\n",
       "    <tr>\n",
       "      <th>5</th>\n",
       "      <td>Hayvan Çiftliği (Ciltsiz)</td>\n",
       "      <td>George Orwell</td>\n",
       "      <td>CAN YAYINLARI</td>\n",
       "      <td>198879.0</td>\n",
       "      <td>152.0</td>\n",
       "      <td>1.0</td>\n",
       "      <td>2.0</td>\n",
       "      <td>5.0</td>\n",
       "      <td>18935</td>\n",
       "      <td>8711</td>\n",
       "      <td>42948</td>\n",
       "      <td>6065.0</td>\n",
       "      <td>9.90</td>\n",
       "      <td>12.10</td>\n",
       "      <td>22.0</td>\n",
       "      <td>1068.0</td>\n",
       "    </tr>\n",
       "    <tr>\n",
       "      <th>6</th>\n",
       "      <td>Kayıp Tanrılar Ülkesi</td>\n",
       "      <td>Ahmet Ümit</td>\n",
       "      <td>YAPI KREDİ YAYINLARI</td>\n",
       "      <td>29999.0</td>\n",
       "      <td>504.0</td>\n",
       "      <td>1.0</td>\n",
       "      <td>2.0</td>\n",
       "      <td>5.0</td>\n",
       "      <td>835</td>\n",
       "      <td>521</td>\n",
       "      <td>9558</td>\n",
       "      <td>1502.0</td>\n",
       "      <td>46.76</td>\n",
       "      <td>38.24</td>\n",
       "      <td>85.0</td>\n",
       "      <td>55.0</td>\n",
       "    </tr>\n",
       "    <tr>\n",
       "      <th>7</th>\n",
       "      <td>Kırmızı Pazartesi</td>\n",
       "      <td>Gabriel Garcia Marquez</td>\n",
       "      <td>CAN YAYINLARI</td>\n",
       "      <td>109415.0</td>\n",
       "      <td>120.0</td>\n",
       "      <td>1.0</td>\n",
       "      <td>2.0</td>\n",
       "      <td>4.0</td>\n",
       "      <td>9963</td>\n",
       "      <td>4356</td>\n",
       "      <td>37675</td>\n",
       "      <td>4491.0</td>\n",
       "      <td>18.08</td>\n",
       "      <td>21.92</td>\n",
       "      <td>40.0</td>\n",
       "      <td>1240.0</td>\n",
       "    </tr>\n",
       "    <tr>\n",
       "      <th>8</th>\n",
       "      <td>Veronika Ölmek İstiyor</td>\n",
       "      <td>Paulo Coelho</td>\n",
       "      <td>CAN YAYINLARI</td>\n",
       "      <td>63613.0</td>\n",
       "      <td>198.0</td>\n",
       "      <td>1.0</td>\n",
       "      <td>2.0</td>\n",
       "      <td>5.0</td>\n",
       "      <td>3713</td>\n",
       "      <td>1905</td>\n",
       "      <td>33938</td>\n",
       "      <td>2803.0</td>\n",
       "      <td>35.76</td>\n",
       "      <td>29.24</td>\n",
       "      <td>65.0</td>\n",
       "      <td>1127.0</td>\n",
       "    </tr>\n",
       "    <tr>\n",
       "      <th>9</th>\n",
       "      <td>Cesur Yeni Dünya</td>\n",
       "      <td>Aldous Huxley</td>\n",
       "      <td>İTHAKİ YAYINLARI</td>\n",
       "      <td>110525.0</td>\n",
       "      <td>272.0</td>\n",
       "      <td>1.0</td>\n",
       "      <td>2.0</td>\n",
       "      <td>5.0</td>\n",
       "      <td>6779</td>\n",
       "      <td>3123</td>\n",
       "      <td>37432</td>\n",
       "      <td>4577.0</td>\n",
       "      <td>27.96</td>\n",
       "      <td>37.04</td>\n",
       "      <td>65.0</td>\n",
       "      <td>382.0</td>\n",
       "    </tr>\n",
       "  </tbody>\n",
       "</table>\n",
       "</div>"
      ],
      "text/plain": [
       "            Name of the Book                     Author             Publisher  \\\n",
       "0    Gece Yarısı Kütüphanesi                  Matt Haig      DOMİNGO YAYINEVİ   \n",
       "1  Şeker Portakalı (Ciltsiz)  Jose Mauro De Vasconcelos         CAN YAYINLARI   \n",
       "2          Simyacı (Ciltsiz)               Paulo Coelho         CAN YAYINLARI   \n",
       "3                 Ben, Kirke            Madeline Miller      İTHAKİ YAYINLARI   \n",
       "4        Fareler ve İnsanlar             John Steinbeck        SEL YAYINCILIK   \n",
       "5  Hayvan Çiftliği (Ciltsiz)              George Orwell         CAN YAYINLARI   \n",
       "6      Kayıp Tanrılar Ülkesi                 Ahmet Ümit  YAPI KREDİ YAYINLARI   \n",
       "7          Kırmızı Pazartesi     Gabriel Garcia Marquez         CAN YAYINLARI   \n",
       "8     Veronika Ölmek İstiyor               Paulo Coelho         CAN YAYINLARI   \n",
       "9           Cesur Yeni Dünya              Aldous Huxley      İTHAKİ YAYINLARI   \n",
       "\n",
       "   Purchase Info  Number of Pages  Type of the Book Cover  Type of the Paper  \\\n",
       "0        38719.0            283.0                     1.0                2.0   \n",
       "1       266852.0            182.0                     1.0                2.0   \n",
       "2       183205.0            184.0                     1.0                2.0   \n",
       "3        50093.0            408.0                     1.0                2.0   \n",
       "4       126422.0            111.0                     1.0                2.0   \n",
       "5       198879.0            152.0                     1.0                2.0   \n",
       "6        29999.0            504.0                     1.0                2.0   \n",
       "7       109415.0            120.0                     1.0                2.0   \n",
       "8        63613.0            198.0                     1.0                2.0   \n",
       "9       110525.0            272.0                     1.0                2.0   \n",
       "\n",
       "   Rate  Rating Count  Review Count  Fav Count  To-Read List Count  Price  \\\n",
       "0   5.0           998           616      19635              2093.0  41.81   \n",
       "1   5.0         21848         10075      60358              7789.0  24.75   \n",
       "2   5.0         15914          7543      54657              5425.0  25.66   \n",
       "3   4.0          1703           912      24116              2157.0  40.01   \n",
       "4   5.0          9631          4416      41801              4330.0  22.66   \n",
       "5   5.0         18935          8711      42948              6065.0   9.90   \n",
       "6   5.0           835           521       9558              1502.0  46.76   \n",
       "7   4.0          9963          4356      37675              4491.0  18.08   \n",
       "8   5.0          3713          1905      33938              2803.0  35.76   \n",
       "9   5.0          6779          3123      37432              4577.0  27.96   \n",
       "\n",
       "   Discount  Manufacturer Price  Time Passed Since Publication  \n",
       "0     34.19                76.0                          195.0  \n",
       "1     30.25                55.0                         1096.0  \n",
       "2     31.34                57.0                          343.0  \n",
       "3     39.99                80.0                          589.0  \n",
       "4     13.34                36.0                          838.0  \n",
       "5     12.10                22.0                         1068.0  \n",
       "6     38.24                85.0                           55.0  \n",
       "7     21.92                40.0                         1240.0  \n",
       "8     29.24                65.0                         1127.0  \n",
       "9     37.04                65.0                          382.0  "
      ]
     },
     "execution_count": 66,
     "metadata": {},
     "output_type": "execute_result"
    }
   ],
   "source": [
    "ky.head(10)"
   ]
  },
  {
   "cell_type": "code",
   "execution_count": 32,
   "id": "75ac621e",
   "metadata": {},
   "outputs": [],
   "source": [
    "def split_int(string):\n",
    "    for i in string.split():\n",
    "        try:\n",
    "            str_to_num = int(i)\n",
    "            return str_to_num\n",
    "        except ValueError:\n",
    "            pass\n"
   ]
  },
  {
   "cell_type": "code",
   "execution_count": 29,
   "id": "eab5eba1",
   "metadata": {},
   "outputs": [],
   "source": [
    "ky[\"Purchase Info\"] = ky.loc[ky[\"Purchase Info\"].notnull(), \"Purchase Info\"].apply(split_int)\n"
   ]
  },
  {
   "cell_type": "code",
   "execution_count": 30,
   "id": "cbfed77c",
   "metadata": {
    "scrolled": false
   },
   "outputs": [],
   "source": [
    "ky[\"Discount\"] = ky.loc[ky[\"Discount\"].notnull(), \"Discount\"].apply(split_int)"
   ]
  },
  {
   "cell_type": "code",
   "execution_count": 33,
   "id": "3d9a70dc",
   "metadata": {},
   "outputs": [],
   "source": [
    "ky[\"To-Read List Count\"] = ky.loc[ky[\"To-Read List Count\"].notnull(), \"To-Read List Count\"].apply(split_int)"
   ]
  },
  {
   "cell_type": "code",
   "execution_count": null,
   "id": "a02863f6",
   "metadata": {},
   "outputs": [],
   "source": [
    "ky.drop_duplicates(inplace=True) "
   ]
  },
  {
   "cell_type": "code",
   "execution_count": 61,
   "id": "4852af32",
   "metadata": {},
   "outputs": [
    {
     "data": {
      "text/plain": [
       "array(['Karton Kapak', 'Ciltli', nan], dtype=object)"
      ]
     },
     "execution_count": 61,
     "metadata": {},
     "output_type": "execute_result"
    }
   ],
   "source": [
    "ky[\"Type of the Book Cover\"].unique()"
   ]
  },
  {
   "cell_type": "code",
   "execution_count": 62,
   "id": "af238335",
   "metadata": {},
   "outputs": [
    {
     "data": {
      "text/plain": [
       "0      1.0\n",
       "1      1.0\n",
       "2      1.0\n",
       "3      1.0\n",
       "4      1.0\n",
       "      ... \n",
       "879    1.0\n",
       "880    1.0\n",
       "881    1.0\n",
       "882    NaN\n",
       "883    1.0\n",
       "Name: Type of the Book Cover, Length: 884, dtype: float64"
      ]
     },
     "execution_count": 62,
     "metadata": {},
     "output_type": "execute_result"
    }
   ],
   "source": [
    "book_cover_dict = { 'Karton Kapak':1, 'Ciltli':2}\n",
    "ky[\"Type of the Book Cover\"] = ky[\"Type of the Book Cover\"].map(book_cover_dict)\n",
    "ky[\"Type of the Book Cover\"]"
   ]
  },
  {
   "cell_type": "code",
   "execution_count": 63,
   "id": "42d1f15d",
   "metadata": {},
   "outputs": [
    {
     "data": {
      "text/plain": [
       "array(['Kitap Kağıdı', '3. Hm. Kağıt', '2. Hm. Kağıt', '1. Hm. Kağıt',\n",
       "       'Kuşe Kağıt', nan], dtype=object)"
      ]
     },
     "execution_count": 63,
     "metadata": {},
     "output_type": "execute_result"
    }
   ],
   "source": [
    "ky[\"Type of the Paper\"].unique()"
   ]
  },
  {
   "cell_type": "code",
   "execution_count": 64,
   "id": "504cdb9a",
   "metadata": {},
   "outputs": [],
   "source": [
    "paper_dict = { 'Kitap Kağıdı':2,\n",
    "                '2. Hm. Kağıt':2,\n",
    "                '1. Hm. Kağıt':3,                  \n",
    "                '3. Hm. Kağıt':1,\n",
    "                'Kuşe Kağıt':4 }"
   ]
  },
  {
   "cell_type": "code",
   "execution_count": 65,
   "id": "3fe927d7",
   "metadata": {
    "scrolled": true
   },
   "outputs": [
    {
     "data": {
      "text/plain": [
       "0      2.0\n",
       "1      2.0\n",
       "2      2.0\n",
       "3      2.0\n",
       "4      2.0\n",
       "      ... \n",
       "879    2.0\n",
       "880    2.0\n",
       "881    2.0\n",
       "882    NaN\n",
       "883    2.0\n",
       "Name: Type of the Paper, Length: 884, dtype: float64"
      ]
     },
     "execution_count": 65,
     "metadata": {},
     "output_type": "execute_result"
    }
   ],
   "source": [
    "# label encoding for paper type\n",
    "ky['Type of the Paper'] = ky['Type of the Paper'].map(paper_dict)\n",
    "ky['Type of the Paper']"
   ]
  },
  {
   "cell_type": "code",
   "execution_count": 50,
   "id": "1626bf3e",
   "metadata": {},
   "outputs": [
    {
     "name": "stdout",
     "output_type": "stream",
     "text": [
      "195\n"
     ]
    }
   ],
   "source": [
    "rd = datetime.strptime(release_date, \"%d/%m/%Y\").date()\n",
    "today = datetime.now().date()\n",
    "time_since_publ = (today-rd).days\n",
    "print(time_since_publ)"
   ]
  },
  {
   "cell_type": "code",
   "execution_count": 55,
   "id": "d8e9cf2b",
   "metadata": {},
   "outputs": [],
   "source": [
    "today = datetime.now().date()\n",
    "def time_passed(release_date):   \n",
    "    rd = datetime.strptime(release_date, \"%d/%m/%Y\").date()\n",
    "    time_since_publ = (today-rd).days\n",
    "    return(time_since_publ)"
   ]
  },
  {
   "cell_type": "code",
   "execution_count": 56,
   "id": "cbe704fe",
   "metadata": {},
   "outputs": [],
   "source": [
    "ky['Time Passed Since Publication'] = ky.loc[ky[\"Release Date\"].notnull(), \"Release Date\"].apply(time_passed)"
   ]
  },
  {
   "cell_type": "code",
   "execution_count": 58,
   "id": "198911d3",
   "metadata": {},
   "outputs": [],
   "source": [
    "ky = ky.loc[:,ky.columns != \"Release Date\"]"
   ]
  },
  {
   "cell_type": "code",
   "execution_count": 53,
   "id": "efd249a5",
   "metadata": {
    "scrolled": true
   },
   "outputs": [
    {
     "data": {
      "text/plain": [
       "str"
      ]
     },
     "execution_count": 53,
     "metadata": {},
     "output_type": "execute_result"
    }
   ],
   "source": [
    "type(ky.loc[0,'Release Date'])"
   ]
  },
  {
   "cell_type": "code",
   "execution_count": 67,
   "id": "ac0faea3",
   "metadata": {},
   "outputs": [
    {
     "data": {
      "text/plain": [
       "Index(['Name of the Book', 'Author', 'Publisher', 'Purchase Info',\n",
       "       'Number of Pages', 'Type of the Book Cover', 'Type of the Paper',\n",
       "       'Rate', 'Rating Count', 'Review Count', 'Fav Count',\n",
       "       'To-Read List Count', 'Price', 'Discount', 'Manufacturer Price',\n",
       "       'Time Passed Since Publication'],\n",
       "      dtype='object')"
      ]
     },
     "execution_count": 67,
     "metadata": {},
     "output_type": "execute_result"
    }
   ],
   "source": [
    "ky.columns"
   ]
  },
  {
   "cell_type": "code",
   "execution_count": 113,
   "id": "d8022e76",
   "metadata": {},
   "outputs": [],
   "source": [
    "ky_lr = ky.loc[:, ~ky.columns.isin([\"Name of the Book\",\"Author\",\"Publisher\"])]"
   ]
  },
  {
   "cell_type": "code",
   "execution_count": 115,
   "id": "5328e288",
   "metadata": {
    "scrolled": false
   },
   "outputs": [
    {
     "data": {
      "text/html": [
       "<div>\n",
       "<style scoped>\n",
       "    .dataframe tbody tr th:only-of-type {\n",
       "        vertical-align: middle;\n",
       "    }\n",
       "\n",
       "    .dataframe tbody tr th {\n",
       "        vertical-align: top;\n",
       "    }\n",
       "\n",
       "    .dataframe thead th {\n",
       "        text-align: right;\n",
       "    }\n",
       "</style>\n",
       "<table border=\"1\" class=\"dataframe\">\n",
       "  <thead>\n",
       "    <tr style=\"text-align: right;\">\n",
       "      <th></th>\n",
       "      <th>Purchase Info</th>\n",
       "      <th>Number of Pages</th>\n",
       "      <th>Type of the Book Cover</th>\n",
       "      <th>Type of the Paper</th>\n",
       "      <th>Rate</th>\n",
       "      <th>Rating Count</th>\n",
       "      <th>Review Count</th>\n",
       "      <th>Fav Count</th>\n",
       "      <th>To-Read List Count</th>\n",
       "      <th>Price</th>\n",
       "      <th>Discount</th>\n",
       "      <th>Manufacturer Price</th>\n",
       "      <th>Time Passed Since Publication</th>\n",
       "    </tr>\n",
       "  </thead>\n",
       "  <tbody>\n",
       "    <tr>\n",
       "      <th>0</th>\n",
       "      <td>38719.0</td>\n",
       "      <td>283.0</td>\n",
       "      <td>1.0</td>\n",
       "      <td>2.0</td>\n",
       "      <td>5.0</td>\n",
       "      <td>998</td>\n",
       "      <td>616</td>\n",
       "      <td>19635</td>\n",
       "      <td>2093.0</td>\n",
       "      <td>41.81</td>\n",
       "      <td>34.19</td>\n",
       "      <td>76.0</td>\n",
       "      <td>195.0</td>\n",
       "    </tr>\n",
       "    <tr>\n",
       "      <th>1</th>\n",
       "      <td>266852.0</td>\n",
       "      <td>182.0</td>\n",
       "      <td>1.0</td>\n",
       "      <td>2.0</td>\n",
       "      <td>5.0</td>\n",
       "      <td>21848</td>\n",
       "      <td>10075</td>\n",
       "      <td>60358</td>\n",
       "      <td>7789.0</td>\n",
       "      <td>24.75</td>\n",
       "      <td>30.25</td>\n",
       "      <td>55.0</td>\n",
       "      <td>1096.0</td>\n",
       "    </tr>\n",
       "    <tr>\n",
       "      <th>2</th>\n",
       "      <td>183205.0</td>\n",
       "      <td>184.0</td>\n",
       "      <td>1.0</td>\n",
       "      <td>2.0</td>\n",
       "      <td>5.0</td>\n",
       "      <td>15914</td>\n",
       "      <td>7543</td>\n",
       "      <td>54657</td>\n",
       "      <td>5425.0</td>\n",
       "      <td>25.66</td>\n",
       "      <td>31.34</td>\n",
       "      <td>57.0</td>\n",
       "      <td>343.0</td>\n",
       "    </tr>\n",
       "    <tr>\n",
       "      <th>3</th>\n",
       "      <td>50093.0</td>\n",
       "      <td>408.0</td>\n",
       "      <td>1.0</td>\n",
       "      <td>2.0</td>\n",
       "      <td>4.0</td>\n",
       "      <td>1703</td>\n",
       "      <td>912</td>\n",
       "      <td>24116</td>\n",
       "      <td>2157.0</td>\n",
       "      <td>40.01</td>\n",
       "      <td>39.99</td>\n",
       "      <td>80.0</td>\n",
       "      <td>589.0</td>\n",
       "    </tr>\n",
       "    <tr>\n",
       "      <th>4</th>\n",
       "      <td>126422.0</td>\n",
       "      <td>111.0</td>\n",
       "      <td>1.0</td>\n",
       "      <td>2.0</td>\n",
       "      <td>5.0</td>\n",
       "      <td>9631</td>\n",
       "      <td>4416</td>\n",
       "      <td>41801</td>\n",
       "      <td>4330.0</td>\n",
       "      <td>22.66</td>\n",
       "      <td>13.34</td>\n",
       "      <td>36.0</td>\n",
       "      <td>838.0</td>\n",
       "    </tr>\n",
       "    <tr>\n",
       "      <th>5</th>\n",
       "      <td>198879.0</td>\n",
       "      <td>152.0</td>\n",
       "      <td>1.0</td>\n",
       "      <td>2.0</td>\n",
       "      <td>5.0</td>\n",
       "      <td>18935</td>\n",
       "      <td>8711</td>\n",
       "      <td>42948</td>\n",
       "      <td>6065.0</td>\n",
       "      <td>9.90</td>\n",
       "      <td>12.10</td>\n",
       "      <td>22.0</td>\n",
       "      <td>1068.0</td>\n",
       "    </tr>\n",
       "    <tr>\n",
       "      <th>6</th>\n",
       "      <td>29999.0</td>\n",
       "      <td>504.0</td>\n",
       "      <td>1.0</td>\n",
       "      <td>2.0</td>\n",
       "      <td>5.0</td>\n",
       "      <td>835</td>\n",
       "      <td>521</td>\n",
       "      <td>9558</td>\n",
       "      <td>1502.0</td>\n",
       "      <td>46.76</td>\n",
       "      <td>38.24</td>\n",
       "      <td>85.0</td>\n",
       "      <td>55.0</td>\n",
       "    </tr>\n",
       "    <tr>\n",
       "      <th>7</th>\n",
       "      <td>109415.0</td>\n",
       "      <td>120.0</td>\n",
       "      <td>1.0</td>\n",
       "      <td>2.0</td>\n",
       "      <td>4.0</td>\n",
       "      <td>9963</td>\n",
       "      <td>4356</td>\n",
       "      <td>37675</td>\n",
       "      <td>4491.0</td>\n",
       "      <td>18.08</td>\n",
       "      <td>21.92</td>\n",
       "      <td>40.0</td>\n",
       "      <td>1240.0</td>\n",
       "    </tr>\n",
       "    <tr>\n",
       "      <th>8</th>\n",
       "      <td>63613.0</td>\n",
       "      <td>198.0</td>\n",
       "      <td>1.0</td>\n",
       "      <td>2.0</td>\n",
       "      <td>5.0</td>\n",
       "      <td>3713</td>\n",
       "      <td>1905</td>\n",
       "      <td>33938</td>\n",
       "      <td>2803.0</td>\n",
       "      <td>35.76</td>\n",
       "      <td>29.24</td>\n",
       "      <td>65.0</td>\n",
       "      <td>1127.0</td>\n",
       "    </tr>\n",
       "    <tr>\n",
       "      <th>9</th>\n",
       "      <td>110525.0</td>\n",
       "      <td>272.0</td>\n",
       "      <td>1.0</td>\n",
       "      <td>2.0</td>\n",
       "      <td>5.0</td>\n",
       "      <td>6779</td>\n",
       "      <td>3123</td>\n",
       "      <td>37432</td>\n",
       "      <td>4577.0</td>\n",
       "      <td>27.96</td>\n",
       "      <td>37.04</td>\n",
       "      <td>65.0</td>\n",
       "      <td>382.0</td>\n",
       "    </tr>\n",
       "  </tbody>\n",
       "</table>\n",
       "</div>"
      ],
      "text/plain": [
       "   Purchase Info  Number of Pages  Type of the Book Cover  Type of the Paper  \\\n",
       "0        38719.0            283.0                     1.0                2.0   \n",
       "1       266852.0            182.0                     1.0                2.0   \n",
       "2       183205.0            184.0                     1.0                2.0   \n",
       "3        50093.0            408.0                     1.0                2.0   \n",
       "4       126422.0            111.0                     1.0                2.0   \n",
       "5       198879.0            152.0                     1.0                2.0   \n",
       "6        29999.0            504.0                     1.0                2.0   \n",
       "7       109415.0            120.0                     1.0                2.0   \n",
       "8        63613.0            198.0                     1.0                2.0   \n",
       "9       110525.0            272.0                     1.0                2.0   \n",
       "\n",
       "   Rate  Rating Count  Review Count  Fav Count  To-Read List Count  Price  \\\n",
       "0   5.0           998           616      19635              2093.0  41.81   \n",
       "1   5.0         21848         10075      60358              7789.0  24.75   \n",
       "2   5.0         15914          7543      54657              5425.0  25.66   \n",
       "3   4.0          1703           912      24116              2157.0  40.01   \n",
       "4   5.0          9631          4416      41801              4330.0  22.66   \n",
       "5   5.0         18935          8711      42948              6065.0   9.90   \n",
       "6   5.0           835           521       9558              1502.0  46.76   \n",
       "7   4.0          9963          4356      37675              4491.0  18.08   \n",
       "8   5.0          3713          1905      33938              2803.0  35.76   \n",
       "9   5.0          6779          3123      37432              4577.0  27.96   \n",
       "\n",
       "   Discount  Manufacturer Price  Time Passed Since Publication  \n",
       "0     34.19                76.0                          195.0  \n",
       "1     30.25                55.0                         1096.0  \n",
       "2     31.34                57.0                          343.0  \n",
       "3     39.99                80.0                          589.0  \n",
       "4     13.34                36.0                          838.0  \n",
       "5     12.10                22.0                         1068.0  \n",
       "6     38.24                85.0                           55.0  \n",
       "7     21.92                40.0                         1240.0  \n",
       "8     29.24                65.0                         1127.0  \n",
       "9     37.04                65.0                          382.0  "
      ]
     },
     "execution_count": 115,
     "metadata": {},
     "output_type": "execute_result"
    }
   ],
   "source": [
    "ky_lr.head(10)"
   ]
  },
  {
   "cell_type": "code",
   "execution_count": 116,
   "id": "51705e8b",
   "metadata": {
    "scrolled": false
   },
   "outputs": [
    {
     "name": "stdout",
     "output_type": "stream",
     "text": [
      "<class 'pandas.core.frame.DataFrame'>\n",
      "RangeIndex: 884 entries, 0 to 883\n",
      "Data columns (total 13 columns):\n",
      " #   Column                         Non-Null Count  Dtype  \n",
      "---  ------                         --------------  -----  \n",
      " 0   Purchase Info                  881 non-null    float64\n",
      " 1   Number of Pages                874 non-null    float64\n",
      " 2   Type of the Book Cover         881 non-null    float64\n",
      " 3   Type of the Paper              880 non-null    float64\n",
      " 4   Rate                           884 non-null    float64\n",
      " 5   Rating Count                   884 non-null    int64  \n",
      " 6   Review Count                   884 non-null    int64  \n",
      " 7   Fav Count                      884 non-null    int64  \n",
      " 8   To-Read List Count             881 non-null    float64\n",
      " 9   Price                          884 non-null    float64\n",
      " 10  Discount                       884 non-null    float64\n",
      " 11  Manufacturer Price             884 non-null    float64\n",
      " 12  Time Passed Since Publication  882 non-null    float64\n",
      "dtypes: float64(10), int64(3)\n",
      "memory usage: 89.9 KB\n"
     ]
    }
   ],
   "source": [
    "ky_lr.info()"
   ]
  },
  {
   "cell_type": "code",
   "execution_count": 71,
   "id": "6d8d4479",
   "metadata": {},
   "outputs": [
    {
     "data": {
      "text/plain": [
       "884"
      ]
     },
     "execution_count": 71,
     "metadata": {},
     "output_type": "execute_result"
    }
   ],
   "source": [
    "len(ky_lr)"
   ]
  },
  {
   "cell_type": "code",
   "execution_count": 117,
   "id": "785c1dc9",
   "metadata": {},
   "outputs": [
    {
     "data": {
      "text/plain": [
       "[303, 412, 647, 788, 795, 797, 817, 840, 847, 882]"
      ]
     },
     "execution_count": 117,
     "metadata": {},
     "output_type": "execute_result"
    }
   ],
   "source": [
    "ky_lr[ky_lr['Number of Pages'].isnull()].index.tolist()"
   ]
  },
  {
   "cell_type": "code",
   "execution_count": 118,
   "id": "d05bc992",
   "metadata": {},
   "outputs": [],
   "source": [
    "ky_lr = ky_lr.drop(labels=[303, 412, 647, 788, 795, 797, 817, 840, 847, 882], axis=0)"
   ]
  },
  {
   "cell_type": "code",
   "execution_count": 119,
   "id": "a9df2211",
   "metadata": {},
   "outputs": [
    {
     "data": {
      "text/plain": [
       "[603, 811]"
      ]
     },
     "execution_count": 119,
     "metadata": {},
     "output_type": "execute_result"
    }
   ],
   "source": [
    "ky_lr[ky_lr['Time Passed Since Publication'].isnull()].index.tolist()"
   ]
  },
  {
   "cell_type": "code",
   "execution_count": 120,
   "id": "94fa6d61",
   "metadata": {},
   "outputs": [],
   "source": [
    "ky_lr = ky_lr.drop(labels=[603, 811], axis=0)"
   ]
  },
  {
   "cell_type": "code",
   "execution_count": 108,
   "id": "f17dae34",
   "metadata": {},
   "outputs": [],
   "source": [
    "def mean_std_filling(column_name):    \n",
    "    mean = column_name.mean()\n",
    "    std = column_name.std()\n",
    "    is_null = column_name.isna().sum()\n",
    "    print('Mean:', mean, 'Std:', std, 'Null:', is_null)\n",
    "    rand_float = np.random.uniform(0, mean + std, size = is_null)\n",
    "    print('Numbers:', rand_float[:25])\n",
    "\n",
    "    column_name[np.isnan(column_name)] = rand_float\n",
    "    column_name = column_name.astype(float)"
   ]
  },
  {
   "cell_type": "code",
   "execution_count": 114,
   "id": "163e8a22",
   "metadata": {
    "scrolled": false
   },
   "outputs": [
    {
     "name": "stdout",
     "output_type": "stream",
     "text": [
      "Mean: 61.469340159271894 Std: 42.36327867087658 Null: 5\n",
      "Numbers: [77.57167623 69.36520288 87.62012236 30.83223071 30.07235724]\n"
     ]
    },
    {
     "name": "stderr",
     "output_type": "stream",
     "text": [
      "C:\\Users\\sarif\\AppData\\Local\\Temp\\ipykernel_16200\\3313111538.py:9: SettingWithCopyWarning: \n",
      "A value is trying to be set on a copy of a slice from a DataFrame\n",
      "\n",
      "See the caveats in the documentation: https://pandas.pydata.org/pandas-docs/stable/user_guide/indexing.html#returning-a-view-versus-a-copy\n",
      "  column_name[np.isnan(column_name)] = rand_float\n"
     ]
    }
   ],
   "source": [
    "mean_std_filling(ky_lr['Manufacturer Price'])"
   ]
  },
  {
   "cell_type": "code",
   "execution_count": 121,
   "id": "cd5dd908",
   "metadata": {
    "scrolled": true
   },
   "outputs": [
    {
     "data": {
      "text/plain": [
       "[684]"
      ]
     },
     "execution_count": 121,
     "metadata": {},
     "output_type": "execute_result"
    }
   ],
   "source": [
    "ky_lr[ky_lr['Type of the Paper'].isnull()].index.tolist()"
   ]
  },
  {
   "cell_type": "code",
   "execution_count": 122,
   "id": "604cb910",
   "metadata": {},
   "outputs": [],
   "source": [
    "ky_lr.loc[684,'Type of the Paper'] = 2"
   ]
  },
  {
   "cell_type": "code",
   "execution_count": 123,
   "id": "926830c8",
   "metadata": {},
   "outputs": [
    {
     "name": "stdout",
     "output_type": "stream",
     "text": [
      "<class 'pandas.core.frame.DataFrame'>\n",
      "Int64Index: 872 entries, 0 to 883\n",
      "Data columns (total 13 columns):\n",
      " #   Column                         Non-Null Count  Dtype  \n",
      "---  ------                         --------------  -----  \n",
      " 0   Purchase Info                  872 non-null    float64\n",
      " 1   Number of Pages                872 non-null    float64\n",
      " 2   Type of the Book Cover         872 non-null    float64\n",
      " 3   Type of the Paper              872 non-null    float64\n",
      " 4   Rate                           872 non-null    float64\n",
      " 5   Rating Count                   872 non-null    int64  \n",
      " 6   Review Count                   872 non-null    int64  \n",
      " 7   Fav Count                      872 non-null    int64  \n",
      " 8   To-Read List Count             872 non-null    float64\n",
      " 9   Price                          872 non-null    float64\n",
      " 10  Discount                       872 non-null    float64\n",
      " 11  Manufacturer Price             872 non-null    float64\n",
      " 12  Time Passed Since Publication  872 non-null    float64\n",
      "dtypes: float64(10), int64(3)\n",
      "memory usage: 127.7 KB\n"
     ]
    }
   ],
   "source": [
    "ky_lr.info()"
   ]
  },
  {
   "cell_type": "code",
   "execution_count": 124,
   "id": "7e6020c0",
   "metadata": {},
   "outputs": [],
   "source": [
    "from sklearn.model_selection import train_test_split"
   ]
  },
  {
   "cell_type": "code",
   "execution_count": 125,
   "id": "9347278e",
   "metadata": {},
   "outputs": [],
   "source": [
    "X = ky_lr.loc[:,ky_lr.columns != \"Price\"]\n",
    "y = ky_lr.Price\n",
    "# Train/Test \n",
    "X_train, x_test, Y_train, y_test = train_test_split(X, y, test_size=0.2, random_state=42)\n",
    "\n",
    "# Train/Validation \n",
    "x_train, x_cv, y_train, y_cv = train_test_split(X_train, Y_train, test_size=0.2, random_state=42)"
   ]
  },
  {
   "cell_type": "code",
   "execution_count": 126,
   "id": "9368151a",
   "metadata": {},
   "outputs": [
    {
     "name": "stdout",
     "output_type": "stream",
     "text": [
      "X Train: (557, 12)\n",
      "X Validation: (140, 12)\n",
      "X test: (175, 12)\n"
     ]
    }
   ],
   "source": [
    "print('X Train:', x_train.shape)\n",
    "print('X Validation:', x_cv.shape)\n",
    "print('X test:', x_test.shape)"
   ]
  },
  {
   "cell_type": "code",
   "execution_count": 127,
   "id": "391c591e",
   "metadata": {},
   "outputs": [
    {
     "name": "stdout",
     "output_type": "stream",
     "text": [
      "MSE:  6.395801079378167\n",
      "R2 Score:  0.9909534902700583\n"
     ]
    }
   ],
   "source": [
    "from sklearn.linear_model import LinearRegression\n",
    "\n",
    "# Model Construction\n",
    "lreg = LinearRegression()\n",
    "\n",
    "lreg.fit(x_train,y_train)\n",
    "\n",
    "pred = lreg.predict(x_cv)\n",
    "\n",
    "# MSE \n",
    "mse = np.mean((pred - y_cv)**2)\n",
    "print(\"MSE: \", mse)\n",
    "\n",
    "# R2 Score\n",
    "print(\"R2 Score: \", lreg.score(x_cv, y_cv))"
   ]
  },
  {
   "cell_type": "code",
   "execution_count": 128,
   "id": "fd5bb134",
   "metadata": {},
   "outputs": [],
   "source": [
    "import seaborn as sns\n",
    "import matplotlib.pyplot as plt"
   ]
  },
  {
   "cell_type": "code",
   "execution_count": 134,
   "id": "06bc90a7",
   "metadata": {},
   "outputs": [],
   "source": [
    "def extract_whiskers(data):\n",
    "    median_value = np.median(data) # Median\n",
    "    upper_quartile = np.percentile(data, 75) # 75%\n",
    "    lower_quartile = np.percentile(data, 25) # 25% \n",
    "\n",
    "    iqr = upper_quartile - lower_quartile # Interquartile Range\n",
    "    upper = data[data<=upper_quartile+1.5*iqr].max()\n",
    "    print(\"Upper Whisker:\", data[data<=upper_quartile+1.5*iqr].max()) # Max\n",
    "    #print(\"Lower Whisker:\", data[data>=lower_quartile-1.5*iqr].min()) # Min\n",
    "    return upper\n"
   ]
  },
  {
   "cell_type": "code",
   "execution_count": 131,
   "id": "e516550b",
   "metadata": {},
   "outputs": [
    {
     "data": {
      "text/plain": [
       "Index(['Purchase Info', 'Number of Pages', 'Type of the Book Cover',\n",
       "       'Type of the Paper', 'Rate', 'Rating Count', 'Review Count',\n",
       "       'Fav Count', 'To-Read List Count', 'Price', 'Discount',\n",
       "       'Manufacturer Price', 'Time Passed Since Publication'],\n",
       "      dtype='object')"
      ]
     },
     "execution_count": 131,
     "metadata": {},
     "output_type": "execute_result"
    }
   ],
   "source": [
    "ky_lr.columns"
   ]
  },
  {
   "cell_type": "code",
   "execution_count": 133,
   "id": "09ec6fc8",
   "metadata": {},
   "outputs": [
    {
     "data": {
      "image/png": "[encoded data removed]",
      "text/plain": [
       "<Figure size 1080x720 with 6 Axes>"
      ]
     },
     "metadata": {
      "needs_background": "light"
     },
     "output_type": "display_data"
    }
   ],
   "source": [
    "fig, axes = plt.subplots(2, 3)\n",
    "sns.histplot(data = ky_lr['Purchase Info'], kde=True, ax=axes[0,0]).set_title(\"Purchase Info\")\n",
    "sns.histplot(data = ky_lr['Rating Count'], kde=True, ax=axes[0,1]).set_title(\"Rating Count\")\n",
    "sns.histplot(data = ky_lr['Review Count'], kde=True, ax=axes[0,2]).set_title(\"Review Count\")\n",
    "sns.histplot(data = ky_lr['Discount'], kde=True, ax=axes[1,0]).set_title(\"Discount\")\n",
    "sns.histplot(data = ky_lr['Fav Count'], kde=True, ax=axes[1,1]).set_title(\"Fav Count\")\n",
    "sns.histplot(data = ky_lr['Time Passed Since Publication'], kde=True, ax=axes[1,2]).set_title(\"Time Passed Since Publication\")\n",
    "\n",
    "\n",
    "fig.set_figheight(10)\n",
    "fig.set_figwidth(15)\n",
    "fig.tight_layout(h_pad=5, w_pad=5)"
   ]
  },
  {
   "cell_type": "code",
   "execution_count": 135,
   "id": "fe49cb52",
   "metadata": {},
   "outputs": [
    {
     "name": "stdout",
     "output_type": "stream",
     "text": [
      "Upper Whisker: 34591.0\n"
     ]
    },
    {
     "data": {
      "text/plain": [
       "34591.0"
      ]
     },
     "execution_count": 135,
     "metadata": {},
     "output_type": "execute_result"
    }
   ],
   "source": [
    "extract_whiskers(ky_lr['Purchase Info'])"
   ]
  },
  {
   "cell_type": "code",
   "execution_count": 137,
   "id": "5835ca09",
   "metadata": {},
   "outputs": [
    {
     "name": "stdout",
     "output_type": "stream",
     "text": [
      "Upper Whisker: 34591.0\n",
      "Upper Whisker: 2018\n",
      "Upper Whisker: 967\n",
      "Upper Whisker: 50.07\n",
      "Upper Whisker: 11874\n",
      "Upper Whisker: 2232.0\n"
     ]
    }
   ],
   "source": [
    "pi = extract_whiskers(ky_lr['Purchase Info'])\n",
    "rac = extract_whiskers(ky_lr['Rating Count'])\n",
    "rec = extract_whiskers(ky_lr['Review Count'])\n",
    "dc = extract_whiskers(ky_lr['Discount'])\n",
    "fc = extract_whiskers(ky_lr['Fav Count'])\n",
    "tsp = extract_whiskers(ky_lr['Time Passed Since Publication'])"
   ]
  },
  {
   "cell_type": "code",
   "execution_count": 138,
   "id": "83d138f6",
   "metadata": {},
   "outputs": [],
   "source": [
    "ky_lr = ky_lr.loc[ky_lr['Purchase Info'] <= pi]\n",
    "ky_lr = ky_lr.loc[ky_lr['Rating Count'] <= rac]\n",
    "ky_lr = ky_lr.loc[ky_lr['Review Count'] <= rec]\n",
    "ky_lr = ky_lr.loc[ky_lr['Discount'] <= dc]\n",
    "ky_lr = ky_lr.loc[ky_lr['Fav Count'] <= fc]\n",
    "ky_lr = ky_lr.loc[ky_lr['Time Passed Since Publication'] <= tsp]\n"
   ]
  },
  {
   "cell_type": "code",
   "execution_count": 139,
   "id": "fe6e7a24",
   "metadata": {},
   "outputs": [
    {
     "data": {
      "image/png": "[encoded data removed]",
      "text/plain": [
       "<Figure size 1080x720 with 6 Axes>"
      ]
     },
     "metadata": {
      "needs_background": "light"
     },
     "output_type": "display_data"
    }
   ],
   "source": [
    "fig, axes = plt.subplots(2, 3)\n",
    "sns.histplot(data = ky_lr['Purchase Info'], kde=True, ax=axes[0,0]).set_title(\"Purchase Info\")\n",
    "sns.histplot(data = ky_lr['Rating Count'], kde=True, ax=axes[0,1]).set_title(\"Rating Count\")\n",
    "sns.histplot(data = ky_lr['Review Count'], kde=True, ax=axes[0,2]).set_title(\"Review Count\")\n",
    "sns.histplot(data = ky_lr['Discount'], kde=True, ax=axes[1,0]).set_title(\"Discount\")\n",
    "sns.histplot(data = ky_lr['Fav Count'], kde=True, ax=axes[1,1]).set_title(\"Fav Count\")\n",
    "sns.histplot(data = ky_lr['Time Passed Since Publication'], kde=True, ax=axes[1,2]).set_title(\"Time Passed Since Publication\")\n",
    "\n",
    "\n",
    "fig.set_figheight(10)\n",
    "fig.set_figwidth(15)\n",
    "fig.tight_layout(h_pad=5, w_pad=5)"
   ]
  },
  {
   "cell_type": "code",
   "execution_count": 140,
   "id": "05244e53",
   "metadata": {},
   "outputs": [
    {
     "data": {
      "image/png": "[encoded data removed]",
      "text/plain": [
       "<Figure size 432x288 with 1 Axes>"
      ]
     },
     "metadata": {
      "needs_background": "light"
     },
     "output_type": "display_data"
    }
   ],
   "source": [
    "ky_lr['Purchase Info Log'] = np.log(ky_lr['Purchase Info'])\n",
    "sns.histplot(data = ky_lr['Purchase Info Log'], kde=True);"
   ]
  },
  {
   "cell_type": "code",
   "execution_count": 141,
   "id": "c70e2aea",
   "metadata": {},
   "outputs": [
    {
     "data": {
      "image/png": "[encoded data removed]",
      "text/plain": [
       "<Figure size 432x288 with 1 Axes>"
      ]
     },
     "metadata": {
      "needs_background": "light"
     },
     "output_type": "display_data"
    }
   ],
   "source": [
    "ky_lr['Fav Count Log'] = np.log(ky_lr['Fav Count'])\n",
    "sns.histplot(data = ky_lr['Fav Count Log'], kde=True);"
   ]
  },
  {
   "cell_type": "code",
   "execution_count": 142,
   "id": "cb131502",
   "metadata": {},
   "outputs": [
    {
     "data": {
      "image/png": "[encoded data removed]",
      "text/plain": [
       "<Figure size 432x288 with 1 Axes>"
      ]
     },
     "metadata": {
      "needs_background": "light"
     },
     "output_type": "display_data"
    }
   ],
   "source": [
    "ky_lr['Review Count Log'] = np.log(ky_lr['Review Count'])\n",
    "sns.histplot(data = ky_lr['Review Count Log'], kde=True);"
   ]
  },
  {
   "cell_type": "code",
   "execution_count": 147,
   "id": "14778d45",
   "metadata": {
    "scrolled": true
   },
   "outputs": [
    {
     "data": {
      "image/png": "[encoded data removed]",
      "text/plain": [
       "<Figure size 1080x360 with 3 Axes>"
      ]
     },
     "metadata": {
      "needs_background": "light"
     },
     "output_type": "display_data"
    }
   ],
   "source": [
    "fig, axes = plt.subplots(1, 3)\n",
    "sns.histplot(data = ky_lr['Purchase Info Log'], kde=True, ax=axes[0]).set_title(\"Purchase Info Log\");\n",
    "sns.histplot(data = ky_lr['Fav Count Log'], kde=True, ax=axes[1]).set_title(\"Fav Count Log\");\n",
    "sns.histplot(data = ky_lr['Review Count Log'], kde=True, ax=axes[2]).set_title(\"Review Count Log\");\n",
    "fig.set_figheight(5)\n",
    "fig.set_figwidth(15)\n",
    "fig.tight_layout(h_pad=5, w_pad=5)\n"
   ]
  },
  {
   "cell_type": "code",
   "execution_count": 151,
   "id": "c461e8cb",
   "metadata": {},
   "outputs": [],
   "source": [
    "ky_lr = ky_lr.drop([\"Purchase Info\",\"Fav Count\", \"Review Count\"], axis=1)\n"
   ]
  },
  {
   "cell_type": "code",
   "execution_count": 152,
   "id": "6c161143",
   "metadata": {},
   "outputs": [
    {
     "data": {
      "text/html": [
       "<div>\n",
       "<style scoped>\n",
       "    .dataframe tbody tr th:only-of-type {\n",
       "        vertical-align: middle;\n",
       "    }\n",
       "\n",
       "    .dataframe tbody tr th {\n",
       "        vertical-align: top;\n",
       "    }\n",
       "\n",
       "    .dataframe thead th {\n",
       "        text-align: right;\n",
       "    }\n",
       "</style>\n",
       "<table border=\"1\" class=\"dataframe\">\n",
       "  <thead>\n",
       "    <tr style=\"text-align: right;\">\n",
       "      <th></th>\n",
       "      <th>Number of Pages</th>\n",
       "      <th>Type of the Book Cover</th>\n",
       "      <th>Type of the Paper</th>\n",
       "      <th>Rate</th>\n",
       "      <th>Rating Count</th>\n",
       "      <th>To-Read List Count</th>\n",
       "      <th>Price</th>\n",
       "      <th>Discount</th>\n",
       "      <th>Manufacturer Price</th>\n",
       "      <th>Time Passed Since Publication</th>\n",
       "      <th>Purchase Info Log</th>\n",
       "      <th>Fav Count Log</th>\n",
       "      <th>Review Count Log</th>\n",
       "    </tr>\n",
       "  </thead>\n",
       "  <tbody>\n",
       "    <tr>\n",
       "      <th>6</th>\n",
       "      <td>504.0</td>\n",
       "      <td>1.0</td>\n",
       "      <td>2.0</td>\n",
       "      <td>5.0</td>\n",
       "      <td>835</td>\n",
       "      <td>1502.0</td>\n",
       "      <td>46.76</td>\n",
       "      <td>38.24</td>\n",
       "      <td>85.0</td>\n",
       "      <td>55.0</td>\n",
       "      <td>10.308919</td>\n",
       "      <td>9.165134</td>\n",
       "      <td>6.255750</td>\n",
       "    </tr>\n",
       "    <tr>\n",
       "      <th>23</th>\n",
       "      <td>168.0</td>\n",
       "      <td>1.0</td>\n",
       "      <td>2.0</td>\n",
       "      <td>4.0</td>\n",
       "      <td>246</td>\n",
       "      <td>431.0</td>\n",
       "      <td>24.77</td>\n",
       "      <td>30.23</td>\n",
       "      <td>55.0</td>\n",
       "      <td>348.0</td>\n",
       "      <td>9.095827</td>\n",
       "      <td>8.302514</td>\n",
       "      <td>4.905275</td>\n",
       "    </tr>\n",
       "    <tr>\n",
       "      <th>25</th>\n",
       "      <td>376.0</td>\n",
       "      <td>1.0</td>\n",
       "      <td>2.0</td>\n",
       "      <td>5.0</td>\n",
       "      <td>594</td>\n",
       "      <td>730.0</td>\n",
       "      <td>39.01</td>\n",
       "      <td>38.99</td>\n",
       "      <td>78.0</td>\n",
       "      <td>55.0</td>\n",
       "      <td>9.707716</td>\n",
       "      <td>9.149422</td>\n",
       "      <td>5.648974</td>\n",
       "    </tr>\n",
       "    <tr>\n",
       "      <th>26</th>\n",
       "      <td>140.0</td>\n",
       "      <td>1.0</td>\n",
       "      <td>2.0</td>\n",
       "      <td>5.0</td>\n",
       "      <td>528</td>\n",
       "      <td>732.0</td>\n",
       "      <td>38.50</td>\n",
       "      <td>15.50</td>\n",
       "      <td>54.0</td>\n",
       "      <td>462.0</td>\n",
       "      <td>9.953087</td>\n",
       "      <td>8.754319</td>\n",
       "      <td>5.817111</td>\n",
       "    </tr>\n",
       "    <tr>\n",
       "      <th>27</th>\n",
       "      <td>160.0</td>\n",
       "      <td>1.0</td>\n",
       "      <td>2.0</td>\n",
       "      <td>4.0</td>\n",
       "      <td>244</td>\n",
       "      <td>432.0</td>\n",
       "      <td>27.01</td>\n",
       "      <td>17.99</td>\n",
       "      <td>45.0</td>\n",
       "      <td>203.0</td>\n",
       "      <td>9.080573</td>\n",
       "      <td>8.117014</td>\n",
       "      <td>4.919981</td>\n",
       "    </tr>\n",
       "    <tr>\n",
       "      <th>...</th>\n",
       "      <td>...</td>\n",
       "      <td>...</td>\n",
       "      <td>...</td>\n",
       "      <td>...</td>\n",
       "      <td>...</td>\n",
       "      <td>...</td>\n",
       "      <td>...</td>\n",
       "      <td>...</td>\n",
       "      <td>...</td>\n",
       "      <td>...</td>\n",
       "      <td>...</td>\n",
       "      <td>...</td>\n",
       "      <td>...</td>\n",
       "    </tr>\n",
       "    <tr>\n",
       "      <th>877</th>\n",
       "      <td>40.0</td>\n",
       "      <td>1.0</td>\n",
       "      <td>2.0</td>\n",
       "      <td>5.0</td>\n",
       "      <td>200</td>\n",
       "      <td>64.0</td>\n",
       "      <td>33.00</td>\n",
       "      <td>22.00</td>\n",
       "      <td>55.0</td>\n",
       "      <td>1000.0</td>\n",
       "      <td>8.499233</td>\n",
       "      <td>7.141245</td>\n",
       "      <td>4.820282</td>\n",
       "    </tr>\n",
       "    <tr>\n",
       "      <th>878</th>\n",
       "      <td>264.0</td>\n",
       "      <td>1.0</td>\n",
       "      <td>2.0</td>\n",
       "      <td>5.0</td>\n",
       "      <td>349</td>\n",
       "      <td>261.0</td>\n",
       "      <td>51.81</td>\n",
       "      <td>26.69</td>\n",
       "      <td>78.5</td>\n",
       "      <td>1077.0</td>\n",
       "      <td>9.137662</td>\n",
       "      <td>8.020599</td>\n",
       "      <td>5.214936</td>\n",
       "    </tr>\n",
       "    <tr>\n",
       "      <th>880</th>\n",
       "      <td>144.0</td>\n",
       "      <td>1.0</td>\n",
       "      <td>2.0</td>\n",
       "      <td>5.0</td>\n",
       "      <td>406</td>\n",
       "      <td>162.0</td>\n",
       "      <td>33.00</td>\n",
       "      <td>17.00</td>\n",
       "      <td>50.0</td>\n",
       "      <td>454.0</td>\n",
       "      <td>8.788441</td>\n",
       "      <td>7.554335</td>\n",
       "      <td>5.384495</td>\n",
       "    </tr>\n",
       "    <tr>\n",
       "      <th>881</th>\n",
       "      <td>143.0</td>\n",
       "      <td>1.0</td>\n",
       "      <td>2.0</td>\n",
       "      <td>5.0</td>\n",
       "      <td>127</td>\n",
       "      <td>100.0</td>\n",
       "      <td>38.61</td>\n",
       "      <td>19.89</td>\n",
       "      <td>58.5</td>\n",
       "      <td>914.0</td>\n",
       "      <td>8.040769</td>\n",
       "      <td>7.015712</td>\n",
       "      <td>4.234107</td>\n",
       "    </tr>\n",
       "    <tr>\n",
       "      <th>883</th>\n",
       "      <td>155.0</td>\n",
       "      <td>1.0</td>\n",
       "      <td>2.0</td>\n",
       "      <td>5.0</td>\n",
       "      <td>937</td>\n",
       "      <td>457.0</td>\n",
       "      <td>25.74</td>\n",
       "      <td>13.26</td>\n",
       "      <td>39.0</td>\n",
       "      <td>951.0</td>\n",
       "      <td>9.443355</td>\n",
       "      <td>8.345455</td>\n",
       "      <td>5.961005</td>\n",
       "    </tr>\n",
       "  </tbody>\n",
       "</table>\n",
       "<p>686 rows × 13 columns</p>\n",
       "</div>"
      ],
      "text/plain": [
       "     Number of Pages  Type of the Book Cover  Type of the Paper  Rate  \\\n",
       "6              504.0                     1.0                2.0   5.0   \n",
       "23             168.0                     1.0                2.0   4.0   \n",
       "25             376.0                     1.0                2.0   5.0   \n",
       "26             140.0                     1.0                2.0   5.0   \n",
       "27             160.0                     1.0                2.0   4.0   \n",
       "..               ...                     ...                ...   ...   \n",
       "877             40.0                     1.0                2.0   5.0   \n",
       "878            264.0                     1.0                2.0   5.0   \n",
       "880            144.0                     1.0                2.0   5.0   \n",
       "881            143.0                     1.0                2.0   5.0   \n",
       "883            155.0                     1.0                2.0   5.0   \n",
       "\n",
       "     Rating Count  To-Read List Count  Price  Discount  Manufacturer Price  \\\n",
       "6             835              1502.0  46.76     38.24                85.0   \n",
       "23            246               431.0  24.77     30.23                55.0   \n",
       "25            594               730.0  39.01     38.99                78.0   \n",
       "26            528               732.0  38.50     15.50                54.0   \n",
       "27            244               432.0  27.01     17.99                45.0   \n",
       "..            ...                 ...    ...       ...                 ...   \n",
       "877           200                64.0  33.00     22.00                55.0   \n",
       "878           349               261.0  51.81     26.69                78.5   \n",
       "880           406               162.0  33.00     17.00                50.0   \n",
       "881           127               100.0  38.61     19.89                58.5   \n",
       "883           937               457.0  25.74     13.26                39.0   \n",
       "\n",
       "     Time Passed Since Publication  Purchase Info Log  Fav Count Log  \\\n",
       "6                             55.0          10.308919       9.165134   \n",
       "23                           348.0           9.095827       8.302514   \n",
       "25                            55.0           9.707716       9.149422   \n",
       "26                           462.0           9.953087       8.754319   \n",
       "27                           203.0           9.080573       8.117014   \n",
       "..                             ...                ...            ...   \n",
       "877                         1000.0           8.499233       7.141245   \n",
       "878                         1077.0           9.137662       8.020599   \n",
       "880                          454.0           8.788441       7.554335   \n",
       "881                          914.0           8.040769       7.015712   \n",
       "883                          951.0           9.443355       8.345455   \n",
       "\n",
       "     Review Count Log  \n",
       "6            6.255750  \n",
       "23           4.905275  \n",
       "25           5.648974  \n",
       "26           5.817111  \n",
       "27           4.919981  \n",
       "..                ...  \n",
       "877          4.820282  \n",
       "878          5.214936  \n",
       "880          5.384495  \n",
       "881          4.234107  \n",
       "883          5.961005  \n",
       "\n",
       "[686 rows x 13 columns]"
      ]
     },
     "execution_count": 152,
     "metadata": {},
     "output_type": "execute_result"
    }
   ],
   "source": [
    "ky_lr"
   ]
  },
  {
   "cell_type": "code",
   "execution_count": 153,
   "id": "50bdc42a",
   "metadata": {},
   "outputs": [
    {
     "data": {
      "image/png": "[encoded data removed]",
      "text/plain": [
       "<Figure size 1296x864 with 2 Axes>"
      ]
     },
     "metadata": {
      "needs_background": "light"
     },
     "output_type": "display_data"
    }
   ],
   "source": [
    "plt.figure(figsize=[18,12])\n",
    "sns.heatmap(ky_lr.corr(), cmap=\"seismic\", annot=True, vmin=-1, vmax=1, fmt='.1f');"
   ]
  },
  {
   "cell_type": "code",
   "execution_count": 161,
   "id": "37f7d138",
   "metadata": {},
   "outputs": [
    {
     "name": "stderr",
     "output_type": "stream",
     "text": [
      "C:\\Users\\sarif\\AppData\\Local\\Temp\\ipykernel_16200\\2115042418.py:4: DeprecationWarning: `np.bool` is a deprecated alias for the builtin `bool`. To silence this warning, use `bool` by itself. Doing this will not modify any behavior and is safe. If you specifically wanted the numpy scalar type, use `np.bool_` here.\n",
      "Deprecated in NumPy 1.20; for more details and guidance: https://numpy.org/devdocs/release/1.20.0-notes.html#deprecations\n",
      "  upper = corr_matrix.where(np.triu(np.ones(corr_matrix.shape), k=1).astype(np.bool))\n"
     ]
    }
   ],
   "source": [
    "corr_matrix = ky_lr.corr().abs()\n",
    "\n",
    "# Select upper triangle of correlation matrix\n",
    "upper = corr_matrix.where(np.triu(np.ones(corr_matrix.shape), k=1).astype(np.bool))\n",
    "\n",
    "# Find features with correlation greater than 0.8\n",
    "to_drop = [column for column in upper.columns if any(upper[column] > 0.85)]"
   ]
  },
  {
   "cell_type": "code",
   "execution_count": 162,
   "id": "c225b77d",
   "metadata": {},
   "outputs": [
    {
     "data": {
      "text/plain": [
       "['Manufacturer Price', 'Review Count Log']"
      ]
     },
     "execution_count": 162,
     "metadata": {},
     "output_type": "execute_result"
    }
   ],
   "source": [
    "to_drop"
   ]
  },
  {
   "cell_type": "code",
   "execution_count": 164,
   "id": "7c08e332",
   "metadata": {},
   "outputs": [],
   "source": [
    "X = ky_lr.drop(columns=['Review Count Log', \"Manufacturer Price\",\"Price\"])\n",
    "y = ky_lr.Price\n",
    "\n",
    "\n",
    "X_train, x_test, Y_train, y_test = train_test_split(X, y, test_size=0.2, random_state=42)\n",
    "\n",
    "x_train, x_cv, y_train, y_cv = train_test_split(X_train, Y_train, test_size=0.2, random_state=42)"
   ]
  },
  {
   "cell_type": "code",
   "execution_count": 172,
   "id": "f3771efc",
   "metadata": {},
   "outputs": [
    {
     "name": "stdout",
     "output_type": "stream",
     "text": [
      "Validation Score:  0.6614387360841347\n",
      "MSE:  92.56195924805542\n"
     ]
    }
   ],
   "source": [
    "lreg = LinearRegression()\n",
    "\n",
    "lreg.fit(x_train,y_train)\n",
    "\n",
    "pred = lreg.predict(x_cv)\n",
    "\n",
    "mse_cv = np.mean((pred - y_cv)**2)\n",
    "\n",
    "print(\"Validation Score: \", lreg.score(x_cv, y_cv))\n",
    "print(\"MSE: \", mse)"
   ]
  },
  {
   "cell_type": "code",
   "execution_count": 173,
   "id": "ae753c14",
   "metadata": {},
   "outputs": [
    {
     "name": "stdout",
     "output_type": "stream",
     "text": [
      "Test Score:  0.7646961191849186\n",
      "MSE:  92.56195924805542\n"
     ]
    }
   ],
   "source": [
    "lreg = LinearRegression()\n",
    "\n",
    "lreg.fit(x_train,y_train)\n",
    "\n",
    "pred = lreg.predict(x_test)\n",
    "\n",
    "mse_test = np.mean((pred - y_test)**2)\n",
    "\n",
    "print(\"Test Score: \", lreg.score(x_test, y_test))\n",
    "print(\"MSE: \", mse)"
   ]
  },
  {
   "cell_type": "code",
   "execution_count": 174,
   "id": "9d674420",
   "metadata": {},
   "outputs": [
    {
     "name": "stdout",
     "output_type": "stream",
     "text": [
      "Validation Score:  0.6614387360841347\n",
      "MSE:  87.41933452644795\n",
      "Test Score:  0.7646961191849186\n",
      "MSE:  92.56195924805542\n"
     ]
    }
   ],
   "source": [
    "print(\"Validation Score: \", lreg.score(x_cv, y_cv))\n",
    "print(\"MSE: \", mse_cv)\n",
    "\n",
    "print(\"Test Score: \", lreg.score(x_test, y_test))\n",
    "print(\"MSE: \", mse_test)"
   ]
  },
  {
   "cell_type": "code",
   "execution_count": 175,
   "id": "5a3e9bf5",
   "metadata": {},
   "outputs": [
    {
     "data": {
      "image/png": "[encoded data removed]",
      "text/plain": [
       "<Figure size 1080x360 with 1 Axes>"
      ]
     },
     "metadata": {
      "needs_background": "light"
     },
     "output_type": "display_data"
    }
   ],
   "source": [
    "from pandas import Series\n",
    "\n",
    "predictors = x_train.columns\n",
    "coef = Series(lreg.coef_,predictors).sort_values(ascending=False)\n",
    "plt.figure(figsize=[15,5])\n",
    "coef.plot(kind='bar', title='Model Coefficients');"
   ]
  },
  {
   "cell_type": "code",
   "execution_count": null,
   "id": "9828e04e",
   "metadata": {},
   "outputs": [],
   "source": []
  }
 ],
 "metadata": {
  "kernelspec": {
   "display_name": "Python 3 (ipykernel)",
   "language": "python",
   "name": "python3"
  },
  "language_info": {
   "codemirror_mode": {
    "name": "ipython",
    "version": 3
   },
   "file_extension": ".py",
   "mimetype": "text/x-python",
   "name": "python",
   "nbconvert_exporter": "python",
   "pygments_lexer": "ipython3",
   "version": "3.8.13"
  }
 },
 "nbformat": 4,
 "nbformat_minor": 5
}
